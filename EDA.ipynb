{
 "cells": [
  {
   "cell_type": "code",
   "execution_count": 4,
   "metadata": {},
   "outputs": [],
   "source": [
    "import json\n",
    "from glob import glob\n",
    "\n",
    "# read jsonl file and save as json file\n",
    "for file in glob('./data/*.jsonl'):\n",
    "    with open(file, 'r') as f:\n",
    "        data = f.readlines()\n",
    "        data = [json.loads(line) for line in data]\n",
    "    with open(file[:-1], 'w') as outfile:\n",
    "        json.dump(data, outfile, indent=4)\n"
   ]
  },
  {
   "cell_type": "code",
   "execution_count": 21,
   "metadata": {},
   "outputs": [
    {
     "name": "stdout",
     "output_type": "stream",
     "text": [
      "dev----------\n",
      "dialogs(examples) 450\n",
      "avg. turns 5.368888888888889\n",
      "avg. query length 56.526666666666664\n",
      "avg. response length 48.45111111111111\n",
      "avg. target item sets 19.08888888888889\n",
      "test----------\n",
      "dialogs(examples) 467\n",
      "avg. turns 5.241970021413276\n",
      "avg. query length 56.100642398286936\n",
      "avg. response length 47.7152034261242\n",
      "avg. target item sets 18.490364025695932\n",
      "tracks 105863\n"
     ]
    }
   ],
   "source": [
    "import json\n",
    "\n",
    "tracks = set()\n",
    "\n",
    "# open dev, test file and count statistics\n",
    "for split in ['dev', 'test']:\n",
    "    with open(f'./data/cpcd_v1.dialogs.{split}.json', 'r') as f:\n",
    "        data = json.load(f)\n",
    "    # print # of dialogs, avg # of turns, avg query length, avg response length, avg size of target item sets\n",
    "    for dialog in data:\n",
    "        tracks.update([track['track_cluster_ids'] for track in dialog['tracks'].values()]) # track_canonical_ids track_cluster_ids\n",
    "    print(f'{split}'+'-'*10)\n",
    "    print('dialogs(examples)', len(data))\n",
    "    print('avg. turns', sum([len(dialog['turns']) for dialog in data])/len(data))\n",
    "    # print('avg. turns', sum([len(dialog['turns']) - (1 if len(dialog['turns'][0]['search_queries'])==0 else 0) for dialog in data])/len(data))\n",
    "    # print('avg. turns', sum([1 for dialog in data for turn in dialog['turns'] if len(turn['search_queries']) != 0])/len(data))\n",
    "    print('avg. query length', sum([len(turn['user_query'].split()) for dialog in data for turn in dialog['turns']])/len(data))\n",
    "    print('avg. response length', sum([len(turn['system_response'].split()) for dialog in data for turn in dialog['turns']])/len(data))\n",
    "    print('avg. target item sets', sum([len(dialog['goal_playlist']) for dialog in data])/len(data))\n",
    "    \n",
    "print('tracks', len(tracks))"
   ]
  }
 ],
 "metadata": {
  "kernelspec": {
   "display_name": "dcase_fad",
   "language": "python",
   "name": "python3"
  },
  "language_info": {
   "codemirror_mode": {
    "name": "ipython",
    "version": 3
   },
   "file_extension": ".py",
   "mimetype": "text/x-python",
   "name": "python",
   "nbconvert_exporter": "python",
   "pygments_lexer": "ipython3",
   "version": "3.8.18"
  },
  "orig_nbformat": 4
 },
 "nbformat": 4,
 "nbformat_minor": 2
}
